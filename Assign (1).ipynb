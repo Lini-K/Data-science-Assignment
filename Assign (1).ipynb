{
  "nbformat": 4,
  "nbformat_minor": 0,
  "metadata": {
    "colab": {
      "provenance": []
    },
    "kernelspec": {
      "name": "python3",
      "display_name": "Python 3"
    },
    "language_info": {
      "name": "python"
    }
  },
  "cells": [
    {
      "cell_type": "markdown",
      "source": [
        "# Peer graded assignment of notebook\n",
        "\n",
        "\n"
      ],
      "metadata": {
        "id": "5xb0Rrwa1cIv"
      }
    },
    {
      "cell_type": "markdown",
      "source": [
        "## This is notebook which covers peer graged assignment"
      ],
      "metadata": {
        "id": "HNAdIqyz43PT"
      }
    },
    {
      "cell_type": "markdown",
      "source": [
        "These are the Data Science Languages\n",
        "\n",
        "\n",
        "1. Python\n",
        "2. R\n",
        "3. SQL\n",
        "4. Julia\n",
        "5. Scala\n",
        "6. Java\n"
      ],
      "metadata": {
        "id": "KRlOZ6tn43gx"
      }
    },
    {
      "cell_type": "markdown",
      "source": [
        "Data Science Libraries\n",
        "\n",
        "\n",
        "\n",
        "\n",
        "1.   NumPy\n",
        "2. Pandas\n",
        "3. Matplotlib\n",
        "4. Seaborn\n",
        "5. Scikit-learn\n",
        "6. TensorFlow\n",
        "7. Keras\n",
        "8. PyTorch\n",
        "\n"
      ],
      "metadata": {
        "id": "Kh__RYHZ43uC"
      }
    },
    {
      "cell_type": "markdown",
      "source": [
        "Category\tTool\tDescription\n",
        "1. Data Analysis\tPandas\n",
        "2. Data manipulation and analysis in Python\n",
        "3. Data Analysis\tNumPy\tNumerical computing in Python\n",
        "4. Data Visualization\tMatplotlib\tPlotting library for Python\n",
        "5. Data Visualization\tSeaborn\tStatistical data visualization in Python\n",
        "6. Machine Learning\tScikit-learn\tMachine learning library for Python\n",
        "7. Deep Learning\tTensorFlow\tOpen-source machine learning framework\n",
        "8. Deep Learning\tPyTorch\tDeep learning framework for Python"
      ],
      "metadata": {
        "id": "EbVHcnSA430p"
      }
    },
    {
      "cell_type": "markdown",
      "source": [
        "Here are some examples of arithmetic expressions:\n",
        "\n",
        "Addition: 5 + 3 = 8\n",
        "Subtraction: 10 - 4 = 6\n",
        "Multiplication: 2 * 6 = 12\n",
        "Division: 20 / 5 = 4"
      ],
      "metadata": {
        "id": "DRrqL6dM434I"
      }
    },
    {
      "cell_type": "code",
      "source": [
        "# Multiply and add numbers\n",
        "num1 = 5\n",
        "num2 = 3\n",
        "result_multiply = num1 * num2\n",
        "result_add = num1 + num2\n",
        "print(\"Result of multiplication:\", result_multiply)\n",
        "print(\"Result of addition:\", result_add)"
      ],
      "metadata": {
        "colab": {
          "base_uri": "https://localhost:8080/"
        },
        "id": "OICUuzkd437U",
        "outputId": "b155372d-1350-4de9-e544-7c80954fdb94"
      },
      "execution_count": null,
      "outputs": [
        {
          "output_type": "stream",
          "name": "stdout",
          "text": [
            "Result of multiplication: 15\n",
            "Result of addition: 8\n"
          ]
        }
      ]
    },
    {
      "cell_type": "code",
      "source": [
        "# Convert minutes to hours\n",
        "minutes = 120  # any number\n",
        "hours = minutes / 60\n",
        "print(minutes, \"minutes =\", hours, \"hours\")"
      ],
      "metadata": {
        "colab": {
          "base_uri": "https://localhost:8080/"
        },
        "id": "usJFqVh8439v",
        "outputId": "73128883-e9a4-4a9a-dc7e-eca180371ca3"
      },
      "execution_count": null,
      "outputs": [
        {
          "output_type": "stream",
          "name": "stdout",
          "text": [
            "120 minutes = 2.0 hours\n"
          ]
        }
      ]
    },
    {
      "cell_type": "code",
      "source": [
        "print( 2+3 )\n",
        "print( 2*3 )"
      ],
      "metadata": {
        "colab": {
          "base_uri": "https://localhost:8080/"
        },
        "id": "33h7-y_w44Am",
        "outputId": "63d2c17f-66c5-4ff0-cd56-98fe187ea71f"
      },
      "execution_count": null,
      "outputs": [
        {
          "output_type": "stream",
          "name": "stdout",
          "text": [
            "5\n",
            "6\n"
          ]
        }
      ]
    },
    {
      "cell_type": "markdown",
      "source": [
        "Objectives\n",
        "* Learn about Python data structures\n",
        "\n",
        "* Practice writing Python functions\n",
        "* Understand Python libraries for data analysis"
      ],
      "metadata": {
        "id": "Oc-h6Hdr44Da"
      }
    },
    {
      "cell_type": "markdown",
      "source": [
        "Author:Lini"
      ],
      "metadata": {
        "id": "VDjZ05yRAEDp"
      }
    },
    {
      "cell_type": "code",
      "source": [],
      "metadata": {
        "id": "9twaN16644GL"
      },
      "execution_count": null,
      "outputs": []
    },
    {
      "cell_type": "markdown",
      "source": [
        "## Data Science Libraries\n",
        "\n",
        "- NumPy\n",
        "- Pandas\n",
        "- Matplotlib\n",
        "- Seaborn\n",
        "- Scikit-learn\n",
        "- TensorFlow\n",
        "- Keras\n",
        "- PyTorch"
      ],
      "metadata": {
        "id": "9hRwW2HW101M"
      }
    }
  ]
}